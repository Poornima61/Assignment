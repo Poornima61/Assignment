{
  "nbformat": 4,
  "nbformat_minor": 0,
  "metadata": {
    "colab": {
      "name": "Assignment12.ipynb",
      "provenance": [],
      "collapsed_sections": [],
      "authorship_tag": "ABX9TyP04BkLkofwgz1bl3YveM8n",
      "include_colab_link": true
    },
    "kernelspec": {
      "name": "python3",
      "display_name": "Python 3"
    }
  },
  "cells": [
    {
      "cell_type": "markdown",
      "metadata": {
        "id": "view-in-github",
        "colab_type": "text"
      },
      "source": [
        "<a href=\"https://colab.research.google.com/github/Poornima61/Assignment/blob/master/Assignment12.ipynb\" target=\"_parent\"><img src=\"https://colab.research.google.com/assets/colab-badge.svg\" alt=\"Open In Colab\"/></a>"
      ]
    },
    {
      "cell_type": "code",
      "metadata": {
        "id": "hIaSVG5R8YEy",
        "colab_type": "code",
        "colab": {
          "base_uri": "https://localhost:8080/",
          "height": 51
        },
        "outputId": "46b50fe0-e66b-42d8-ca8e-f179cbdb23ac"
      },
      "source": [
        "import math\n",
        "r = float(input(\"Enter the radius of the circle: \"))\n",
        "area = math.pi* r * r\n",
        "print(\"%.2f\" %area)\n"
      ],
      "execution_count": 1,
      "outputs": [
        {
          "output_type": "stream",
          "text": [
            "Enter the radius of the circle: 6\n",
            "113.10\n"
          ],
          "name": "stdout"
        }
      ]
    },
    {
      "cell_type": "code",
      "metadata": {
        "id": "WSyiLYQg8f7K",
        "colab_type": "code",
        "colab": {
          "base_uri": "https://localhost:8080/",
          "height": 68
        },
        "outputId": "ac0cd822-4ae6-438d-8650-4573b51658bc"
      },
      "source": [
        "from math import tan, pi\n",
        "n_sides = int(input(\"Input number of sides: \"))\n",
        "s_length = float(input(\"Input the length of a side: \"))\n",
        "p_area = n_sides * (s_length ** 2) / (4 * tan(pi / n_sides))\n",
        "print(\"The area of the polygon is: \",p_area)\n"
      ],
      "execution_count": 2,
      "outputs": [
        {
          "output_type": "stream",
          "text": [
            "Input number of sides: 5\n",
            "Input the length of a side: 20\n",
            "The area of the polygon is:  688.1909602355868\n"
          ],
          "name": "stdout"
        }
      ]
    },
    {
      "cell_type": "code",
      "metadata": {
        "id": "Qx2kc-At8vUZ",
        "colab_type": "code",
        "colab": {
          "base_uri": "https://localhost:8080/",
          "height": 68
        },
        "outputId": "8ca8b5e7-9194-465d-b875-8cdf2f55978e"
      },
      "source": [
        "def sectorarea():\n",
        "    pi=22/7\n",
        "    radius = float(input('Radius of Circle: '))\n",
        "    angle = float(input('angle measure: '))\n",
        "    if angle >= 360:\n",
        "        print(\"Angle is not possible\")\n",
        "        return\n",
        "    sur_area = (pi*radius**2) * (angle/360)\n",
        "    print(\"Sector Area: \", sur_area)\n",
        "\n",
        "sectorarea()\n"
      ],
      "execution_count": 3,
      "outputs": [
        {
          "output_type": "stream",
          "text": [
            "Radius of Circle: 5\n",
            "angle measure: 60\n",
            "Sector Area:  13.095238095238095\n"
          ],
          "name": "stdout"
        }
      ]
    },
    {
      "cell_type": "code",
      "metadata": {
        "id": "KvAUxjnMIbWm",
        "colab_type": "code",
        "colab": {
          "base_uri": "https://localhost:8080/",
          "height": 34
        },
        "outputId": "e1cb59ea-60e6-4ab3-efc7-c2ee6e24edb8"
      },
      "source": [
        "Radians60           = math.radians(60)\n",
        "\n",
        "sin60               = math.sin(Radians60)\n",
        "\n",
        "sin60Rounded        = round(sin60,2)\n",
        "\n",
        "print(\"Sin60:{}\".format(sin60Rounded))"
      ],
      "execution_count": 15,
      "outputs": [
        {
          "output_type": "stream",
          "text": [
            "Sin60:0.87\n"
          ],
          "name": "stdout"
        }
      ]
    },
    {
      "cell_type": "code",
      "metadata": {
        "id": "7bFoTW6yIvsO",
        "colab_type": "code",
        "colab": {
          "base_uri": "https://localhost:8080/",
          "height": 34
        },
        "outputId": "0de3346d-9968-4308-8922-fdd6625faa30"
      },
      "source": [
        "import math  \n",
        "    \n",
        "a = math.pi / 6\n",
        "      \n",
        "print (\"The value of cosine of pi / 6 is : \", end =\"\")  \n",
        "print (math.cos(a))  \n"
      ],
      "execution_count": 16,
      "outputs": [
        {
          "output_type": "stream",
          "text": [
            "The value of cosine of pi / 6 is : 0.8660254037844387\n"
          ],
          "name": "stdout"
        }
      ]
    },
    {
      "cell_type": "code",
      "metadata": {
        "id": "k3aaDWl9I_CT",
        "colab_type": "code",
        "colab": {
          "base_uri": "https://localhost:8080/",
          "height": 51
        },
        "outputId": "d47f0298-b0ce-4f37-8fd2-d3aca0e51a3c"
      },
      "source": [
        "import math \n",
        "  \n",
        "a = math.pi/6\n",
        "    \n",
        "print (\"The value of sine of pi/6 is : \", end=\"\") \n",
        "print (math.sin(a)) \n",
        "   \n",
        "print (\"The value of cosine of pi/6 is : \", end=\"\") \n",
        "print (math.cos(a)) \n"
      ],
      "execution_count": 17,
      "outputs": [
        {
          "output_type": "stream",
          "text": [
            "The value of sine of pi/6 is : 0.49999999999999994\n",
            "The value of cosine of pi/6 is : 0.8660254037844387\n"
          ],
          "name": "stdout"
        }
      ]
    },
    {
      "cell_type": "code",
      "metadata": {
        "id": "GJH32myxJMey",
        "colab_type": "code",
        "colab": {
          "base_uri": "https://localhost:8080/",
          "height": 34
        },
        "outputId": "2f1299ba-9abe-48d7-d3ab-dc6638b7b5c7"
      },
      "source": [
        "Radians90       = math.radians(90)\n",
        "\n",
        "tan90           = math.tan(Radians90)\n",
        "\n",
        "tan90Rounded    = round(tan90,2)\n",
        "\n",
        "print(\"tan 90:{}\".format(tan90Rounded))\n",
        "\n",
        " \n",
        "\n"
      ],
      "execution_count": 18,
      "outputs": [
        {
          "output_type": "stream",
          "text": [
            "tan 90:1.633123935319537e+16\n"
          ],
          "name": "stdout"
        }
      ]
    },
    {
      "cell_type": "code",
      "metadata": {
        "id": "NdZoiKp3LoGc",
        "colab_type": "code",
        "colab": {
          "base_uri": "https://localhost:8080/",
          "height": 34
        },
        "outputId": "d4fe972b-fda0-4adc-fde3-1d03205abc2f"
      },
      "source": [
        "import math\n",
        "\n",
        "print('The value of 5^8: ' + str(math.pow(5, 8)))"
      ],
      "execution_count": 24,
      "outputs": [
        {
          "output_type": "stream",
          "text": [
            "The value of 5^8: 390625.0\n"
          ],
          "name": "stdout"
        }
      ]
    },
    {
      "cell_type": "code",
      "metadata": {
        "id": "E2qPq8X1JvfE",
        "colab_type": "code",
        "colab": {
          "base_uri": "https://localhost:8080/",
          "height": 34
        },
        "outputId": "4946ba8e-ea4d-4464-e782-49486f29c1ce"
      },
      "source": [
        "import math   \n",
        "print(math.sqrt(400)) "
      ],
      "execution_count": 19,
      "outputs": [
        {
          "output_type": "stream",
          "text": [
            "20.0\n"
          ],
          "name": "stdout"
        }
      ]
    },
    {
      "cell_type": "code",
      "metadata": {
        "id": "k2HWIzY6KQNC",
        "colab_type": "code",
        "colab": {
          "base_uri": "https://localhost:8080/",
          "height": 34
        },
        "outputId": "f27442a3-972b-4a98-8e79-7881a9cb637f"
      },
      "source": [
        "import math  \n",
        "\n",
        "print('The value of 5^e: ' + str(math.exp(5)))"
      ],
      "execution_count": 21,
      "outputs": [
        {
          "output_type": "stream",
          "text": [
            "The value of 5^e: 148.4131591025766\n"
          ],
          "name": "stdout"
        }
      ]
    },
    {
      "cell_type": "code",
      "metadata": {
        "id": "keJcEeSTLK72",
        "colab_type": "code",
        "colab": {
          "base_uri": "https://localhost:8080/",
          "height": 34
        },
        "outputId": "54672423-78e3-4d6e-9ff8-857c5f45d788"
      },
      "source": [
        "import math\n",
        "\n",
        "print('The value of Log(1024), base 2: ' + str(math.log2(1024)))\n",
        "\n"
      ],
      "execution_count": 22,
      "outputs": [
        {
          "output_type": "stream",
          "text": [
            "The value of Log(1024), base 2: 10.0\n"
          ],
          "name": "stdout"
        }
      ]
    },
    {
      "cell_type": "code",
      "metadata": {
        "id": "slbcbg3KLddV",
        "colab_type": "code",
        "colab": {
          "base_uri": "https://localhost:8080/",
          "height": 34
        },
        "outputId": "40432bba-da85-4dac-bca9-2aee2eea5325"
      },
      "source": [
        "import math\n",
        "\n",
        "print('The value of Log(1024), base 10: ' + str(math.log10(1024)))"
      ],
      "execution_count": 23,
      "outputs": [
        {
          "output_type": "stream",
          "text": [
            "The value of Log(1024), base 10: 3.010299956639812\n"
          ],
          "name": "stdout"
        }
      ]
    }
  ]
}