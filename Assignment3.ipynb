{
  "nbformat": 4,
  "nbformat_minor": 0,
  "metadata": {
    "colab": {
      "name": "Assignment3.ipynb",
      "provenance": [],
      "collapsed_sections": [],
      "authorship_tag": "ABX9TyOoSERIhLRT8YNDqs0kfJUm",
      "include_colab_link": true
    },
    "kernelspec": {
      "name": "python3",
      "display_name": "Python 3"
    }
  },
  "cells": [
    {
      "cell_type": "markdown",
      "metadata": {
        "id": "view-in-github",
        "colab_type": "text"
      },
      "source": [
        "<a href=\"https://colab.research.google.com/github/Poornima61/Assignment/blob/master/Assignment3.ipynb\" target=\"_parent\"><img src=\"https://colab.research.google.com/assets/colab-badge.svg\" alt=\"Open In Colab\"/></a>"
      ]
    },
    {
      "cell_type": "code",
      "metadata": {
        "id": "uiAkjwUGf7IV",
        "colab_type": "code",
        "colab": {
          "base_uri": "https://localhost:8080/",
          "height": 34
        },
        "outputId": "c6a9f2ea-ecea-47f3-fd6a-a30122109e83"
      },
      "source": [
        "def largest(n1,n2,n3):\n",
        "\n",
        "    n1=float(input(\"enter first nmber:\"))\n",
        "    n2=float(input(\"enter second number:\"))\n",
        "    n3=float(iput(\"enter third number:\"))\n",
        "\n",
        "if(n1>=n2) and (n1>=n3):\n",
        "  largest=n1\n",
        "elif(n2>=n1) and (n2>=n3):\n",
        "  largest=n2\n",
        "else:\n",
        "  largest=n3\n",
        "print(\"the largest number is\",largest)\n",
        "\n"
      ],
      "execution_count": 4,
      "outputs": [
        {
          "output_type": "stream",
          "text": [
            "the largest number is 14\n"
          ],
          "name": "stdout"
        }
      ]
    },
    {
      "cell_type": "code",
      "metadata": {
        "id": "R6amQO8aouXI",
        "colab_type": "code",
        "colab": {
          "base_uri": "https://localhost:8080/",
          "height": 51
        },
        "outputId": "14dfde27-944b-4803-d3e0-d33c4525c875"
      },
      "source": [
        "def reverse(str):\n",
        "  s=\"\"\n",
        "  for ch in str:\n",
        "    s=ch+s\n",
        "  return s\n",
        "\n",
        "mystr=\"BeginnersBook\"\n",
        "print(\"Given string:\",mystr)\n",
        "\n",
        "print(\"Reversed string:\",reverse(mystr))\n",
        "\n",
        "\n",
        "\n",
        "\n",
        "\n",
        "    "
      ],
      "execution_count": 10,
      "outputs": [
        {
          "output_type": "stream",
          "text": [
            "Given string: BeginnersBook\n",
            "Reversed string: kooBsrennigeB\n"
          ],
          "name": "stdout"
        }
      ]
    },
    {
      "cell_type": "code",
      "metadata": {
        "id": "sQq4QW0Hrich",
        "colab_type": "code",
        "colab": {
          "base_uri": "https://localhost:8080/",
          "height": 68
        },
        "outputId": "c1c48ec2-327b-444d-847b-41cb8a964881"
      },
      "source": [
        "n=int(input(\"enter a number:\"))\n",
        "\n",
        "if n>1:\n",
        "  for i in range(2,n):\n",
        "    if(n%i)==0:\n",
        "      print(n,\"is not a prime number\")\n",
        "      print(i,\"times\",n//i,\"is\",n)\n",
        "      break\n",
        "  else:\n",
        "   print(n,\"is a prime number\")\n",
        "else:\n",
        "  print(n,\"is not a prime number\")\n",
        "\n",
        "  \n"
      ],
      "execution_count": 13,
      "outputs": [
        {
          "output_type": "stream",
          "text": [
            "enter a number:407\n",
            "407 is not a prime number\n",
            "11 times 37 is 407\n"
          ],
          "name": "stdout"
        }
      ]
    },
    {
      "cell_type": "code",
      "metadata": {
        "id": "dz9MVSQutJL-",
        "colab_type": "code",
        "colab": {
          "base_uri": "https://localhost:8080/",
          "height": 51
        },
        "outputId": "f82c8749-0891-48c7-e92a-36fc6b5556fa"
      },
      "source": [
        "n=int(input(\"enter a number:\"))\n",
        "\n",
        "temp=n\n",
        "rev=0\n",
        "while(n>0):\n",
        "  digit=n%10\n",
        "  rev=rev*10+digit\n",
        "  n=n//10\n",
        "if(temp==rev):\n",
        "  print(\"the given number is palindrome:\")\n",
        "else:\n",
        "  print(\"the given number is not palindrome:\")\n",
        "\n",
        "\n"
      ],
      "execution_count": 15,
      "outputs": [
        {
          "output_type": "stream",
          "text": [
            "enter a number:23\n",
            "the given number is not palindrome:\n"
          ],
          "name": "stdout"
        }
      ]
    },
    {
      "cell_type": "code",
      "metadata": {
        "id": "Fb8BW8Ceuifv",
        "colab_type": "code",
        "colab": {
          "base_uri": "https://localhost:8080/",
          "height": 34
        },
        "outputId": "24dd99a9-5fbf-4d91-f9b6-2b6c463fab50"
      },
      "source": [
        "n=16\n",
        "\n",
        "if n<0:\n",
        "  print(\"enter a positive number\")\n",
        "else:\n",
        "  sum=0\n",
        "  while(n>0):\n",
        "    sum+=n\n",
        "    n-=1\n",
        "  print(\"the sum is\",sum)    "
      ],
      "execution_count": 16,
      "outputs": [
        {
          "output_type": "stream",
          "text": [
            "the sum is 136\n"
          ],
          "name": "stdout"
        }
      ]
    }
  ]
}