{
  "nbformat": 4,
  "nbformat_minor": 0,
  "metadata": {
    "colab": {
      "name": "Assignment2.ipynb",
      "provenance": [],
      "collapsed_sections": [],
      "authorship_tag": "ABX9TyNC3kXJK4mbn6tLv9Y7Z/Rk",
      "include_colab_link": true
    },
    "kernelspec": {
      "name": "python3",
      "display_name": "Python 3"
    }
  },
  "cells": [
    {
      "cell_type": "markdown",
      "metadata": {
        "id": "view-in-github",
        "colab_type": "text"
      },
      "source": [
        "<a href=\"https://colab.research.google.com/github/Poornima61/Assignment/blob/master/Assignment2.ipynb\" target=\"_parent\"><img src=\"https://colab.research.google.com/assets/colab-badge.svg\" alt=\"Open In Colab\"/></a>"
      ]
    },
    {
      "cell_type": "code",
      "metadata": {
        "id": "fEzBsSHk1vmy",
        "colab_type": "code",
        "colab": {}
      },
      "source": [
        "Python has five standard Data Types:\n",
        "\n",
        "Numbers\n",
        "String\n",
        "List\n",
        "Tuple\n",
        "Dictionary\n",
        "Python sets the variable type based on the value that is assigned to it.\n",
        "  \"Numbers\"\n",
        "Python will automatically convert a number from one type to another if it needs. \n",
        "But, under certain circumstances that a specific number type is needed (ie. complex, hexidecimal), the format can be forced into a format\n",
        "   \"String\"\n",
        "Create string variables by enclosing characters in quotes. Python uses single quotes ' double quotes \" and triple quotes \"\"\" to denote literal strings.\n",
        " Only the triple quoted strings \"\"\" also will automatically continue across the end of line statement.\n",
        "     \"List\"\n",
        " Lists are a very useful variable type in Python. A list can contain a series of values.\n",
        "  List variables are declared by using brackets [ ] following the variable name.\n",
        "      \" Tuple\"\n",
        "  Tuples are a group of values like a list and are manipulated in similar ways.\n",
        "   But, tuples are fixed in size once they are assigned. \n",
        "  In Python the fixed size is considered immutable as compared to a list that is dynamic and mutable. Tuples are defined by parenthesis ().\n",
        "        \"Dictionary\"\n",
        "  Dictionaries are created by using braces ({}) with pairs separated by a comma (,) and the key values associated with a colon(:).\n",
        "   In Dictionaries the Key must be unique. Here is a quick example on how dictionaries might be used:\n",
        "\n"
      ],
      "execution_count": null,
      "outputs": []
    },
    {
      "cell_type": "markdown",
      "metadata": {
        "id": "i5vSNVgg5wNk",
        "colab_type": "text"
      },
      "source": [
        "History of PYTHON"
      ]
    },
    {
      "cell_type": "code",
      "metadata": {
        "id": "txYxP7IN6Cqc",
        "colab_type": "code",
        "colab": {}
      },
      "source": [
        ""
      ],
      "execution_count": null,
      "outputs": []
    },
    {
      "cell_type": "markdown",
      "metadata": {
        "id": "MxYGozxE4-31",
        "colab_type": "text"
      },
      "source": [
        "Python is a widely used general-purpose, high-level programming language. It was initially designed by Guido van Rossum in 1991 and developed by Python Software Foundation. It was mainly developed for emphasis on code readability, and its syntax allows programmers to express concepts in fewer lines of code.\n",
        "\n"
      ]
    },
    {
      "cell_type": "code",
      "metadata": {
        "id": "tXlewHHn5Trw",
        "colab_type": "code",
        "colab": {}
      },
      "source": [
        "The two of the most used versions has to Python 2.x & 3.x.\n",
        " There is a lot of competition between the two and both of them seem to have quite a number of different fanbase.\n",
        "\n",
        "For various purposes such as developing, scripting, generation and software testing,\n",
        " this language is utilized. Due to its elegance and simplicity, top technology organizations like \n",
        " Dropbox, Google, Quora, Mozilla, Hewlett-Packard, Qualcomm, IBM, and Cisco have implemented Python.\n",
        " "
      ],
      "execution_count": null,
      "outputs": []
    },
    {
      "cell_type": "code",
      "metadata": {
        "id": "6BOVLa5rF0NI",
        "colab_type": "code",
        "colab": {}
      },
      "source": [
        "Python Operators\n",
        "Operators are used to perform operations on variables and values.\n",
        "\n",
        "Python divides the operators in the following groups:\n",
        "\n",
        "..Arithmetic operators\n",
        " .Assignment operators\n",
        " .Comparison operators\n",
        " .Logical operators\n",
        " .Identity operators\n",
        " .Membership operators\n",
        " .Bitwise operators\n",
        "\n",
        "       \"Arithmetic Operators\"\n",
        "\n",
        " Operator       \t Name                \tExample \n",
        "   +\t            Addition\t              x + y\t\n",
        "   -\t           Subtraction             X - Y\n",
        "   *\t          Multiplication\t         x * y\t\n",
        "   /\t            Division                x / y\t\n",
        "   %\t             Modulus                x % y\t\n",
        "\t**              Exponential              x**y\n",
        "  //             Floor division            x//y\n",
        "\n",
        "       \"Assignment Operators\"\n",
        "\n",
        "  Operator           \tExample\t      Same As\n",
        "    =\t                x = 5         \tx = 5\t\n",
        "    +=                x += 3    \t  x = x + 3\t\n",
        "    -=                x -= 3     \t  x = x - 3\t\n",
        "    *=                x *= 3     \t  x = x * 3\t\n",
        "    /=               \tx /= 3\t      x = x / 3\t\n",
        "    %=               \tx %= 3\t      x = x % 3\t\n",
        "   //=\t              x //= 3\t      x = x // 3\t\n",
        "   **=              \tx **= 3    \t  x = x ** 3\t\n",
        "    &=\t              x &= 3\t      x = x & 3\t\n",
        "    |=\t              x |= 3     \t  x = x | 3\t\n",
        "    ^=              \tx ^= 3\t      x = x ^ 3\t\n",
        "    >>=             \tx >>= 3\t      x = x >> 3\t\n",
        "    <<=\t              x <<= 3\t      x = x << 3\n",
        "\n",
        "      \"Comparison Operators\"\n",
        "\n",
        "   Operator  \t             Name                  \tExample\t\n",
        "     ==                  \tEqual\t                   x == y\t\n",
        "     !=                 \tNot equal\t               x!=y\n",
        "     >            \t    Greater than\t             x > y\t\n",
        "     <              \t   Less than      \t         x < y\t\n",
        "     >=\t            Greater than or equal to  \t   x >= y\t\n",
        "     <=             \tLess than or equal to\t       x <= y\t\n",
        "\n",
        "       \"Logical Operators\"\n",
        "     Operator           \tDescription                                                      \tExample\t\n",
        "      and      \t    Returns True if both statements are true                          \tx < 5 and  x < 10\t\n",
        "      or\t          Returns True if one of the statements is true                     \tx < 5 or x < 4\t\n",
        "     not           \tReverse the result, returns False if the result is true          not(x < 5 and x < 10)\n",
        "\n",
        "        \"Identity Operators\"\n",
        "\n",
        " \tOperator                       \tDescription\t                                                Example\n",
        "     is \t              Returns True if both variables are the same object\t                 x is y\t\n",
        "    is not            \tReturns True if both variables are not the same object\t           x is not y\n",
        "\n",
        "      \"Membership Operators\"\n",
        "\n",
        "    Operator                      \tDescription\t                                                                     Example\t\n",
        "      in              \tReturns True if a sequence with the specified value is present in the object         \t   x in y\t\n",
        "     not in\t            Returns True if a sequence with the specified value is not present in the object      \tx not in y\n",
        "\n",
        "       \"Bitise Operators\"\n",
        "\n",
        "     Operator          \t       Name                                 \tDescription\n",
        "        &                      \tAND\t                           Sets each bit to 1 if both bits are 1\n",
        "        |\t                      OR                        \t   Sets each bit to 1 if one of two bits is 1\n",
        "        ^                     \tXOR\t                           Sets each bit to 1 if only one of two bits is 1\n",
        "        ~ \t                    NOT                            Inverts all the bits\n",
        "       <<           \tZero fill left shift\t                   Shift left by pushing zeros in from the right and let the leftmost bits fall off\n",
        "       >>              Signed right shift\t                     Shift right by pushing copies of the leftmost bit in from the left, and let the rightmost bits fall off\n",
        "\n",
        "\n",
        "\n"
      ],
      "execution_count": null,
      "outputs": []
    },
    {
      "cell_type": "markdown",
      "metadata": {
        "id": "aJpWB9gHPJNP",
        "colab_type": "text"
      },
      "source": [
        ""
      ]
    },
    {
      "cell_type": "code",
      "metadata": {
        "id": "VF0B8pDQPZ8Z",
        "colab_type": "code",
        "colab": {}
      },
      "source": [
        "\"Features of Python\""
      ],
      "execution_count": null,
      "outputs": []
    },
    {
      "cell_type": "code",
      "metadata": {
        "id": "Ir2b_G9JOUJ-",
        "colab_type": "code",
        "colab": {}
      },
      "source": [
        "1) Easy to Learn and Use. Python is easy to learn and use.\n",
        "2) Expressive Language.\n",
        "3) Interpreted Language.\n",
        "4) Cross-platform Language.\n",
        "5) Free and Open Source.\n",
        "6) Object-Oriented Language.\n",
        "7) Extensible.\n",
        "8) Large Standard Library"
      ],
      "execution_count": null,
      "outputs": []
    },
    {
      "cell_type": "code",
      "metadata": {
        "id": "zHc6UqbmPjDr",
        "colab_type": "code",
        "colab": {}
      },
      "source": [
        "Unlike C/C++ etc, Python is an interpreted object-oriented programming language.\n",
        " By interpreted it is meant that each time a program is run the interpreter checks \n",
        " through the code for errors and then interprets the instructions into machine-readable bytecode.\n",
        "\n",
        "An interpreter is a translator in computer's language which translates the given code \n",
        "line-by-line in machine readable bytecodes.\n",
        "And if any error is encounterd it stops the translation until the error is fixed.\n",
        "Unlike C language, which is a compiled programming language.\n",
        "The compiler translates the whole code in one-go rather than line-by-line.\n",
        "This is the reason why in C language, all the errors are listed during compilation only.\n",
        "\n"
      ],
      "execution_count": null,
      "outputs": []
    },
    {
      "cell_type": "code",
      "metadata": {
        "id": "g_ZuDj_y6Eho",
        "colab_type": "code",
        "colab": {}
      },
      "source": [
        "\n",
        "\n"
      ],
      "execution_count": null,
      "outputs": []
    }
  ]
}