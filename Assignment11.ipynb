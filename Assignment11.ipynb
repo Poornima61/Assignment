{
  "nbformat": 4,
  "nbformat_minor": 0,
  "metadata": {
    "colab": {
      "name": "Assignment11.ipynb",
      "provenance": [],
      "authorship_tag": "ABX9TyPhAjor5nsOoy56/UoNF7LK",
      "include_colab_link": true
    },
    "kernelspec": {
      "name": "python3",
      "display_name": "Python 3"
    }
  },
  "cells": [
    {
      "cell_type": "markdown",
      "metadata": {
        "id": "view-in-github",
        "colab_type": "text"
      },
      "source": [
        "<a href=\"https://colab.research.google.com/github/Poornima61/Assignment/blob/master/Assignment11.ipynb\" target=\"_parent\"><img src=\"https://colab.research.google.com/assets/colab-badge.svg\" alt=\"Open In Colab\"/></a>"
      ]
    },
    {
      "cell_type": "code",
      "metadata": {
        "id": "wSfeW7q_4pND",
        "colab_type": "code",
        "colab": {
          "base_uri": "https://localhost:8080/",
          "height": 68
        },
        "outputId": "a5709558-f531-4586-831c-91bf5338297a"
      },
      "source": [
        "def test_number5(x, y):\n",
        "    if x == y or abs(x-y) == 5 or (x+y) == 5:\n",
        "        return True\n",
        "    else:\n",
        "        return False\n",
        "\n",
        "print(test_number5(7, 2))\n",
        "print(test_number5(3, 2))\n",
        "print(test_number5(2, 2))\n"
      ],
      "execution_count": 1,
      "outputs": [
        {
          "output_type": "stream",
          "text": [
            "True\n",
            "True\n",
            "True\n"
          ],
          "name": "stdout"
        }
      ]
    },
    {
      "cell_type": "code",
      "metadata": {
        "id": "cH3RXBA45xxt",
        "colab_type": "code",
        "colab": {
          "base_uri": "https://localhost:8080/",
          "height": 34
        },
        "outputId": "1cbc9860-0b32-48b9-ad86-f0ad11ac73ac"
      },
      "source": [
        "def areSame(a, b): \n",
        "   if (a ^ b):  \n",
        "       print(\"Not Same\")\n",
        "   else: \n",
        "       print(\"Same\")\n",
        "    \n",
        "areSame(10, 20) \n",
        "  \n"
      ],
      "execution_count": 3,
      "outputs": [
        {
          "output_type": "stream",
          "text": [
            "Not Same\n"
          ],
          "name": "stdout"
        }
      ]
    },
    {
      "cell_type": "code",
      "metadata": {
        "id": "xajBclW86TrS",
        "colab_type": "code",
        "colab": {
          "base_uri": "https://localhost:8080/",
          "height": 34
        },
        "outputId": "c177e017-3f1f-480d-945f-565dc6b3d4d1"
      },
      "source": [
        "def isMultipleof5(n): \n",
        "      \n",
        "    while ( n > 0 ): \n",
        "        n = n - 5\n",
        "  \n",
        "    if ( n == 0 ): \n",
        "        return 1\n",
        "  \n",
        "    return 0\n",
        "       \n",
        "i = 19\n",
        "if ( isMultipleof5(i) == 1 ): \n",
        "    print (i, \"is multiple of 5\") \n",
        "else: \n",
        "    print (i, \"is not a multiple of 5\")"
      ],
      "execution_count": 4,
      "outputs": [
        {
          "output_type": "stream",
          "text": [
            "19 is not a multiple of 5\n"
          ],
          "name": "stdout"
        }
      ]
    },
    {
      "cell_type": "code",
      "metadata": {
        "id": "myXvRJVB6kbf",
        "colab_type": "code",
        "colab": {
          "base_uri": "https://localhost:8080/",
          "height": 119
        },
        "outputId": "47c83b84-fb84-4d7d-aa4a-918e2b355f00"
      },
      "source": [
        "sub1=int(input(\"Enter marks of the first subject: \"))\n",
        "sub2=int(input(\"Enter marks of the second subject: \"))\n",
        "sub3=int(input(\"Enter marks of the third subject: \"))\n",
        "sub4=int(input(\"Enter marks of the fourth subject: \"))\n",
        "sub5=int(input(\"Enter marks of the fifth subject: \"))\n",
        "avg=(sub1+sub2+sub3+sub4+sub4)/5\n",
        "if(avg>=90):\n",
        "    print(\"Grade: A\")\n",
        "elif(avg>=80&avg<90):\n",
        "    print(\"Grade: B\")\n",
        "elif(avg>=70&avg<80):\n",
        "    print(\"Grade: C\")\n",
        "elif(avg>=60&avg<70):\n",
        "    print(\"Grade: D\")\n",
        "else:\n",
        "    print(\"Grade: F\")\n"
      ],
      "execution_count": 6,
      "outputs": [
        {
          "output_type": "stream",
          "text": [
            "Enter marks of the first subject: 85\n",
            "Enter marks of the second subject: 95\n",
            "Enter marks of the third subject: 98\n",
            "Enter marks of the fourth subject: 100\n",
            "Enter marks of the fifth subject: 88\n",
            "Grade: A\n"
          ],
          "name": "stdout"
        }
      ]
    },
    {
      "cell_type": "code",
      "metadata": {
        "id": "cljy_V1R7dul",
        "colab_type": "code",
        "colab": {
          "base_uri": "https://localhost:8080/",
          "height": 34
        },
        "outputId": "be3e9d84-290b-4e0e-d04e-ebe1d1c9bc37"
      },
      "source": [
        "def maximum(a, b, c): \n",
        "  \n",
        "    if (a >= b) and (a >= c): \n",
        "        largest = a \n",
        "  \n",
        "    elif (b >= a) and (b >= c): \n",
        "        largest = b \n",
        "    else: \n",
        "        largest = c \n",
        "          \n",
        "    return largest \n",
        "    \n",
        "a = 10\n",
        "b = 14\n",
        "c = 12\n",
        "print(maximum(a, b, c)) \n",
        "\n"
      ],
      "execution_count": 7,
      "outputs": [
        {
          "output_type": "stream",
          "text": [
            "14\n"
          ],
          "name": "stdout"
        }
      ]
    }
  ]
}