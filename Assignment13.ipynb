{
  "nbformat": 4,
  "nbformat_minor": 0,
  "metadata": {
    "colab": {
      "name": "Assignment13.ipynb",
      "provenance": [],
      "collapsed_sections": [],
      "authorship_tag": "ABX9TyPOUy/eZreWDLWtvxzPRVBL",
      "include_colab_link": true
    },
    "kernelspec": {
      "name": "python3",
      "display_name": "Python 3"
    }
  },
  "cells": [
    {
      "cell_type": "markdown",
      "metadata": {
        "id": "view-in-github",
        "colab_type": "text"
      },
      "source": [
        "<a href=\"https://colab.research.google.com/github/Poornima61/Assignment/blob/master/Assignment13.ipynb\" target=\"_parent\"><img src=\"https://colab.research.google.com/assets/colab-badge.svg\" alt=\"Open In Colab\"/></a>"
      ]
    },
    {
      "cell_type": "code",
      "metadata": {
        "id": "HsCjGA__Mutu",
        "colab_type": "code",
        "colab": {
          "base_uri": "https://localhost:8080/",
          "height": 34
        },
        "outputId": "f8e41365-03c8-49c8-dbf4-e121f8e2de03"
      },
      "source": [
        "my_data = (\"hi\", \"hello\", \"bye\")\n",
        "print(my_data)"
      ],
      "execution_count": 3,
      "outputs": [
        {
          "output_type": "stream",
          "text": [
            "('hi', 'hello', 'bye')\n"
          ],
          "name": "stdout"
        }
      ]
    },
    {
      "cell_type": "code",
      "metadata": {
        "id": "m5XP9bxcL_Mx",
        "colab_type": "code",
        "colab": {
          "base_uri": "https://localhost:8080/",
          "height": 34
        },
        "outputId": "395eca20-9bc2-4e7e-a9ae-d8d358fbe1b2"
      },
      "source": [
        "tuplex = (\"tuple\", False, 3.2, 1)\n",
        "print(tuplex)\n"
      ],
      "execution_count": 1,
      "outputs": [
        {
          "output_type": "stream",
          "text": [
            "('tuple', False, 3.2, 1)\n"
          ],
          "name": "stdout"
        }
      ]
    },
    {
      "cell_type": "code",
      "metadata": {
        "id": "9F76u-SPNLte",
        "colab_type": "code",
        "colab": {
          "base_uri": "https://localhost:8080/",
          "height": 34
        },
        "outputId": "ff8c0943-b065-449f-c167-7aaa77eac772"
      },
      "source": [
        "def convertTuple(tup): \n",
        "    str =  ''.join(tup) \n",
        "    return str\n",
        "   \n",
        "tuple = ('g', 'e', 'e', 'k', 's') \n",
        "str = convertTuple(tuple) \n",
        "print(str) \n"
      ],
      "execution_count": 4,
      "outputs": [
        {
          "output_type": "stream",
          "text": [
            "geeks\n"
          ],
          "name": "stdout"
        }
      ]
    },
    {
      "cell_type": "code",
      "metadata": {
        "id": "9fzQRrwYNdGX",
        "colab_type": "code",
        "colab": {
          "base_uri": "https://localhost:8080/",
          "height": 51
        },
        "outputId": "641d2176-209b-4f81-a216-c552433f609e"
      },
      "source": [
        "tup = 'python', 'geeks'\n",
        "print(tup) \n",
        "  \n",
        "# Another for doing the same \n",
        "tup = ('python', 'geeks') \n",
        "print(tup) \n"
      ],
      "execution_count": 5,
      "outputs": [
        {
          "output_type": "stream",
          "text": [
            "('python', 'geeks')\n",
            "('python', 'geeks')\n"
          ],
          "name": "stdout"
        }
      ]
    },
    {
      "cell_type": "code",
      "metadata": {
        "id": "tVTWjeWuOOXp",
        "colab_type": "code",
        "colab": {
          "base_uri": "https://localhost:8080/",
          "height": 51
        },
        "outputId": "1ee84d9a-3bb0-4648-decf-f6e37a54bbda"
      },
      "source": [
        "tuple1, tuple2 = (123, 'xyz', 'zara'), (456, 'abc')\n",
        "print (\"First tuple length : \", len(tuple1))\n",
        "print (\"Second tuple length : \", len(tuple2))"
      ],
      "execution_count": 8,
      "outputs": [
        {
          "output_type": "stream",
          "text": [
            "First tuple length :  3\n",
            "Second tuple length :  2\n"
          ],
          "name": "stdout"
        }
      ]
    },
    {
      "cell_type": "code",
      "metadata": {
        "id": "Qo9kZet2Ogxn",
        "colab_type": "code",
        "colab": {
          "base_uri": "https://localhost:8080/",
          "height": 34
        },
        "outputId": "6fdd3bba-ccc2-48cf-b29f-b1f2ab523a77"
      },
      "source": [
        "def listtodict(A, di): \n",
        "   di = dict(A) \n",
        "   return di \n",
        "  \n",
        "A = [(\"Adwaita\", 5), (\"Aadrika\", 5), (\"Babai\", 37), (\"Mona\", 7), (\"Sanj\", 25), (\"Sakya\", 30)] \n",
        "di = {} \n",
        "print (\"The Dictionary Is ::>\",listtodict(A, di)) \n"
      ],
      "execution_count": 9,
      "outputs": [
        {
          "output_type": "stream",
          "text": [
            "The Dictionary Is ::> {'Adwaita': 5, 'Aadrika': 5, 'Babai': 37, 'Mona': 7, 'Sanj': 25, 'Sakya': 30}\n"
          ],
          "name": "stdout"
        }
      ]
    },
    {
      "cell_type": "code",
      "metadata": {
        "id": "AJxnKzTZOwbY",
        "colab_type": "code",
        "colab": {
          "base_uri": "https://localhost:8080/",
          "height": 34
        },
        "outputId": "ea6e7464-19f6-4d53-ffc4-4c2276815c7c"
      },
      "source": [
        "def Reverse(tuples): \n",
        "    new_tup = tuples[::-1] \n",
        "    return new_tup \n",
        "       \n",
        "tuples = ('p','r','e','t','t','y') \n",
        "print(Reverse(tuples)) \n"
      ],
      "execution_count": 12,
      "outputs": [
        {
          "output_type": "stream",
          "text": [
            "('y', 't', 't', 'e', 'r', 'p')\n"
          ],
          "name": "stdout"
        }
      ]
    },
    {
      "cell_type": "code",
      "metadata": {
        "id": "OdTbHIA4O88X",
        "colab_type": "code",
        "colab": {
          "base_uri": "https://localhost:8080/",
          "height": 34
        },
        "outputId": "58bf1b0a-5815-4abd-940a-6feb7ac48866"
      },
      "source": [
        "def listtodict(A, di): \n",
        "   di = dict(A) \n",
        "   return di \n",
        "  \n",
        "A = [(\"Adwaita\", 5), (\"Aadrika\", 5), (\"Babai\", 37), (\"Mona\", 7), (\"Sanj\", 25), (\"Sakya\", 30)] \n",
        "di = {} \n",
        "print (\"The Dictionary Is ::>\",listtodict(A, di))"
      ],
      "execution_count": 11,
      "outputs": [
        {
          "output_type": "stream",
          "text": [
            "The Dictionary Is ::> {'Adwaita': 5, 'Aadrika': 5, 'Babai': 37, 'Mona': 7, 'Sanj': 25, 'Sakya': 30}\n"
          ],
          "name": "stdout"
        }
      ]
    }
  ]
}