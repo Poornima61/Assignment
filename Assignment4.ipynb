{
  "nbformat": 4,
  "nbformat_minor": 0,
  "metadata": {
    "colab": {
      "name": "Assignment4.ipynb",
      "provenance": [],
      "collapsed_sections": [],
      "authorship_tag": "ABX9TyOrZJV8nHJzU1S6nfbi863O",
      "include_colab_link": true
    },
    "kernelspec": {
      "name": "python3",
      "display_name": "Python 3"
    }
  },
  "cells": [
    {
      "cell_type": "markdown",
      "metadata": {
        "id": "view-in-github",
        "colab_type": "text"
      },
      "source": [
        "<a href=\"https://colab.research.google.com/github/Poornima61/Assignment/blob/master/Assignment4.ipynb\" target=\"_parent\"><img src=\"https://colab.research.google.com/assets/colab-badge.svg\" alt=\"Open In Colab\"/></a>"
      ]
    },
    {
      "cell_type": "code",
      "metadata": {
        "id": "W85kXJ7Kx1-N",
        "colab_type": "code",
        "colab": {
          "base_uri": "https://localhost:8080/",
          "height": 34
        },
        "outputId": "871129c4-1e7c-4d9c-e2a8-8f0be19efe67"
      },
      "source": [
        "import cmath\n",
        "\n",
        "num=1+2j\n",
        "\n",
        "num_sqrt=cmath.sqrt(num)\n",
        "print(\"the square root of {0} is {1:0.3f}+{2:0.3f}j\".format(num,num_sqrt.real,num_sqrt.imag))\n"
      ],
      "execution_count": 1,
      "outputs": [
        {
          "output_type": "stream",
          "text": [
            "the square root of (1+2j) is 1.272+0.786j\n"
          ],
          "name": "stdout"
        }
      ]
    },
    {
      "cell_type": "code",
      "metadata": {
        "id": "M5Acvxj1yvFo",
        "colab_type": "code",
        "colab": {
          "base_uri": "https://localhost:8080/",
          "height": 51
        },
        "outputId": "e58b54d1-1e24-4bcd-a68c-03f146a2104d"
      },
      "source": [
        "num=float(input(\"enter a number:\"))\n",
        "if num>0:\n",
        "  print(\"positive number\")\n",
        "elif num==0:\n",
        "  print(\"zero\")\n",
        "else:\n",
        "  print(\"negative number\")\n",
        "      "
      ],
      "execution_count": 2,
      "outputs": [
        {
          "output_type": "stream",
          "text": [
            "enter a number:25\n",
            "positive number\n"
          ],
          "name": "stdout"
        }
      ]
    },
    {
      "cell_type": "code",
      "metadata": {
        "id": "E-NYuWHrzbxb",
        "colab_type": "code",
        "colab": {
          "base_uri": "https://localhost:8080/",
          "height": 51
        },
        "outputId": "45311688-f882-4ca6-9655-fab03285145a"
      },
      "source": [
        "year=int(input(\"enter a year:\"))\n",
        "\n",
        "if(year%4)==0:\n",
        "  if(year%100)==0:\n",
        "    if(year%400)==0:\n",
        "      print(\"{0} is a leap year\".format(year))\n",
        "    else:\n",
        "      print(\"{0} is not a leap year\".format(year))\n",
        "  else:\n",
        "    print(\"{0} is a leap year\".format(year))\n",
        "else:\n",
        "  print(\"{0} is not a leap year\".format(year))\n",
        "              "
      ],
      "execution_count": 3,
      "outputs": [
        {
          "output_type": "stream",
          "text": [
            "enter a year:2000\n",
            "2000 is a leap year\n"
          ],
          "name": "stdout"
        }
      ]
    },
    {
      "cell_type": "code",
      "metadata": {
        "id": "zlPafGj60zSF",
        "colab_type": "code",
        "colab": {
          "base_uri": "https://localhost:8080/",
          "height": 170
        },
        "outputId": "8e2eee6f-3bf5-4c7f-cd5f-eade2dc9db20"
      },
      "source": [
        "nterms=int(input(\"How many terms\"))    \n",
        "n1,n2=0,1\n",
        "count=0\n",
        "\n",
        "if nterms<=0:\n",
        "  print(\"enter a positive integer\")\n",
        "elif nterms==1:\n",
        "  print(\"Fibonacci sequence upto\",nterms,\":\")  \n",
        "  print(n1)\n",
        "else:\n",
        "  print(\"Fibonacci sequene:\")\n",
        "  while count<nterms:\n",
        "    print(n1)\n",
        "    nth=n1+n2\n",
        "\n",
        "    n1=n2\n",
        "    n2=nth\n",
        "    count+=1  "
      ],
      "execution_count": 6,
      "outputs": [
        {
          "output_type": "stream",
          "text": [
            "How many terms7\n",
            "Fibonacci sequene:\n",
            "0\n",
            "1\n",
            "1\n",
            "2\n",
            "3\n",
            "5\n",
            "8\n"
          ],
          "name": "stdout"
        }
      ]
    },
    {
      "cell_type": "code",
      "metadata": {
        "id": "AC4LFhE02Swb",
        "colab_type": "code",
        "colab": {
          "base_uri": "https://localhost:8080/",
          "height": 51
        },
        "outputId": "048189b6-bf51-4c78-cc1c-e61c3591ec32"
      },
      "source": [
        "num=int(input(\"enter a number:\"))\n",
        "sum=0\n",
        "\n",
        "temp=num\n",
        "while temp>0:\n",
        "  digit=temp%10\n",
        "  sum+=digit**3\n",
        "  temp//=10\n",
        "if num==sum:\n",
        "  print(num,\"is a Armstrong number\")\n",
        "else:\n",
        "  print(num,\"is not a Armstrog number\") \n",
        "     "
      ],
      "execution_count": 7,
      "outputs": [
        {
          "output_type": "stream",
          "text": [
            "enter a number:663\n",
            "663 is not a Armstrog number\n"
          ],
          "name": "stdout"
        }
      ]
    },
    {
      "cell_type": "code",
      "metadata": {
        "id": "0sIyMlcJ3Ntm",
        "colab_type": "code",
        "colab": {
          "base_uri": "https://localhost:8080/",
          "height": 102
        },
        "outputId": "f8d5326a-3cf7-43db-937b-2bdcc8274a9a"
      },
      "source": [
        "lower=100\n",
        "upper=2000\n",
        "\n",
        "for num in range(lower,upper+1):\n",
        "\n",
        "  order=len(str(num))\n",
        "  sum=0\n",
        "\n",
        "  temp=num\n",
        "  while temp>0:\n",
        "    digit=temp%10\n",
        "    sum+=digit**order\n",
        "    temp//=10\n",
        "\n",
        "  if num==sum:\n",
        "    print(num)   "
      ],
      "execution_count": 8,
      "outputs": [
        {
          "output_type": "stream",
          "text": [
            "153\n",
            "370\n",
            "371\n",
            "407\n",
            "1634\n"
          ],
          "name": "stdout"
        }
      ]
    },
    {
      "cell_type": "code",
      "metadata": {
        "id": "36Gc-vjz14Tf",
        "colab_type": "code",
        "colab": {}
      },
      "source": [
        "+"
      ],
      "execution_count": null,
      "outputs": []
    }
  ]
}