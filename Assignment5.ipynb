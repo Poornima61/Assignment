{
  "nbformat": 4,
  "nbformat_minor": 0,
  "metadata": {
    "colab": {
      "name": "Assignment5.ipynb",
      "provenance": [],
      "authorship_tag": "ABX9TyNbGFx8dM4EIzGfGYLOUGSJ",
      "include_colab_link": true
    },
    "kernelspec": {
      "name": "python3",
      "display_name": "Python 3"
    }
  },
  "cells": [
    {
      "cell_type": "markdown",
      "metadata": {
        "id": "view-in-github",
        "colab_type": "text"
      },
      "source": [
        "<a href=\"https://colab.research.google.com/github/Poornima61/Assignment/blob/master/Assignment5.ipynb\" target=\"_parent\"><img src=\"https://colab.research.google.com/assets/colab-badge.svg\" alt=\"Open In Colab\"/></a>"
      ]
    },
    {
      "cell_type": "code",
      "metadata": {
        "id": "2XipnQHB4iTH",
        "colab_type": "code",
        "colab": {
          "base_uri": "https://localhost:8080/",
          "height": 51
        },
        "outputId": "8bbe3133-9fb4-4573-d561-de043abe9aac"
      },
      "source": [
        "def find_len(list1):\n",
        "  length=len(list1)\n",
        "  list1.sort()\n",
        "  print(\"largest element is:\",list1[length-1])\n",
        "  print(\"smallest element is:\",list1[0])\n",
        "\n",
        "list1=[12,4,22,10]  \n",
        "largest=find_len(list1)\n",
        "\n"
      ],
      "execution_count": 9,
      "outputs": [
        {
          "output_type": "stream",
          "text": [
            "largest element is: 22\n",
            "smallest element is: 4\n"
          ],
          "name": "stdout"
        }
      ]
    },
    {
      "cell_type": "code",
      "metadata": {
        "id": "6oMJJ7wq8VDg",
        "colab_type": "code",
        "colab": {
          "base_uri": "https://localhost:8080/",
          "height": 34
        },
        "outputId": "b083e61b-0405-460b-eda3-4779aa73f258"
      },
      "source": [
        "def remove(duplicate):\n",
        "  final_list=[]\n",
        "  for num in duplicate:\n",
        "    final_list.append(num)\n",
        "  return final_list\n",
        "\n",
        "duplicate=[2,4,10,5,20,4]\n",
        "print(remove(duplicate))\n",
        "    "
      ],
      "execution_count": 10,
      "outputs": [
        {
          "output_type": "stream",
          "text": [
            "[2, 4, 10, 5, 20, 4]\n"
          ],
          "name": "stdout"
        }
      ]
    },
    {
      "cell_type": "code",
      "metadata": {
        "id": "Eat8XBaq9CHJ",
        "colab_type": "code",
        "colab": {
          "base_uri": "https://localhost:8080/",
          "height": 34
        },
        "outputId": "28e28856-d00c-439c-fe60-ec0912441e2b"
      },
      "source": [
        "def enquiry(list1):\n",
        "  if len(list1):\n",
        "    return 0\n",
        "  else:\n",
        "    return 1\n",
        "list1=[]\n",
        "if enquiry(list1):\n",
        "  print(\"the list is not empty\")\n",
        "else:\n",
        "  print(\"empty list\")\n",
        "          "
      ],
      "execution_count": 11,
      "outputs": [
        {
          "output_type": "stream",
          "text": [
            "the list is not empty\n"
          ],
          "name": "stdout"
        }
      ]
    },
    {
      "cell_type": "code",
      "metadata": {
        "id": "-s1SIew29zqz",
        "colab_type": "code",
        "colab": {
          "base_uri": "https://localhost:8080/",
          "height": 51
        },
        "outputId": "dbb49f69-7037-42df-cd05-593ed25b96f5"
      },
      "source": [
        "def cloning(li1):\n",
        "  li_copy=li1[:]\n",
        "  return li_copy\n",
        "\n",
        "li1=[4,8,10,15,18]\n",
        "li2=cloning(li1)\n",
        "print(\"original list:\",li1)\n",
        "print(\"after cloning:\",li2)\n"
      ],
      "execution_count": 17,
      "outputs": [
        {
          "output_type": "stream",
          "text": [
            "original list: [4, 8, 10, 15, 18]\n",
            "after cloning: [4, 8, 10, 15, 18]\n"
          ],
          "name": "stdout"
        }
      ]
    },
    {
      "cell_type": "code",
      "metadata": {
        "id": "uUFZWjEp_6-2",
        "colab_type": "code",
        "colab": {
          "base_uri": "https://localhost:8080/",
          "height": 34
        },
        "outputId": "8fc7ac5b-ba49-4d61-aa0e-b5d2c8f68ef6"
      },
      "source": [
        "color=[\"red\",\"green\",\"white\",\"black\",\"pink\",\"yellow\"]\n",
        "color=[x for (i,x) in enumerate(color) if i not in (0,4,5)]\n",
        "print(color)\n"
      ],
      "execution_count": 20,
      "outputs": [
        {
          "output_type": "stream",
          "text": [
            "['green', 'white', 'black']\n"
          ],
          "name": "stdout"
        }
      ]
    },
    {
      "cell_type": "code",
      "metadata": {
        "id": "wjQbLgvPBnkF",
        "colab_type": "code",
        "colab": {
          "base_uri": "https://localhost:8080/",
          "height": 34
        },
        "outputId": "a8b494c3-8084-4dda-9561-74fbd550f295"
      },
      "source": [
        "list1=[10,21,4,45,66,93]\n",
        "\n",
        "for num in list1:\n",
        "\n",
        "  if num % 2==0:\n",
        "    print(num,end=\" \")\n",
        "    "
      ],
      "execution_count": 28,
      "outputs": [
        {
          "output_type": "stream",
          "text": [
            "10 4 66 "
          ],
          "name": "stdout"
        }
      ]
    },
    {
      "cell_type": "code",
      "metadata": {
        "id": "juYWJcpNDeVX",
        "colab_type": "code",
        "colab": {
          "base_uri": "https://localhost:8080/",
          "height": 51
        },
        "outputId": "15537bea-a856-4c5c-841f-99c569b54cd1"
      },
      "source": [
        "my_list=['p','r','o','b','e']\n",
        "\n",
        "print(my_list[-1])\n",
        "\n",
        "print(my_list[-5])\n"
      ],
      "execution_count": 29,
      "outputs": [
        {
          "output_type": "stream",
          "text": [
            "e\n",
            "p\n"
          ],
          "name": "stdout"
        }
      ]
    },
    {
      "cell_type": "code",
      "metadata": {
        "id": "KEz2nSgPEEex",
        "colab_type": "code",
        "colab": {
          "base_uri": "https://localhost:8080/",
          "height": 51
        },
        "outputId": "ff17744c-6ac9-4a8e-85e0-2ebbb0e179b1"
      },
      "source": [
        "A={'a','b','c','d'}\n",
        "B={'c','f','g'}\n",
        "\n",
        "print(A.difference(B))\n",
        "\n",
        "print(B.difference(A))\n"
      ],
      "execution_count": 30,
      "outputs": [
        {
          "output_type": "stream",
          "text": [
            "{'d', 'a', 'b'}\n",
            "{'f', 'g'}\n"
          ],
          "name": "stdout"
        }
      ]
    }
  ]
}