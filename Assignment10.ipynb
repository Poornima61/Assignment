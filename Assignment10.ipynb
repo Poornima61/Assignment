{
  "nbformat": 4,
  "nbformat_minor": 0,
  "metadata": {
    "colab": {
      "name": "Assignment10.ipynb",
      "provenance": [],
      "collapsed_sections": [],
      "authorship_tag": "ABX9TyNL6d22AvOABdQ7aU1bBBkC",
      "include_colab_link": true
    },
    "kernelspec": {
      "name": "python3",
      "display_name": "Python 3"
    }
  },
  "cells": [
    {
      "cell_type": "markdown",
      "metadata": {
        "id": "view-in-github",
        "colab_type": "text"
      },
      "source": [
        "<a href=\"https://colab.research.google.com/github/Poornima61/Assignment/blob/master/Assignment10.ipynb\" target=\"_parent\"><img src=\"https://colab.research.google.com/assets/colab-badge.svg\" alt=\"Open In Colab\"/></a>"
      ]
    },
    {
      "cell_type": "code",
      "metadata": {
        "id": "QRnDTOkrVKGg",
        "colab_type": "code",
        "colab": {}
      },
      "source": [
        "\n"
      ],
      "execution_count": null,
      "outputs": []
    },
    {
      "cell_type": "markdown",
      "metadata": {
        "id": "Qm_c9O4JXfCX",
        "colab_type": "text"
      },
      "source": [
        ""
      ]
    },
    {
      "cell_type": "code",
      "metadata": {
        "id": "1DXqoimVXjHH",
        "colab_type": "code",
        "colab": {
          "base_uri": "https://localhost:8080/",
          "height": 51
        },
        "outputId": "b3379e52-78ba-47a7-cb2e-1c3956d34d52"
      },
      "source": [
        "def file_read(fname):\n",
        "        from itertools import islice\n",
        "        with open(fname, \"w\") as myfile:\n",
        "                myfile.write(\"Python Exercises\\n\")\n",
        "                myfile.write(\"Java Exercises\")\n",
        "        txt = open(fname)\n",
        "        print(txt.read())\n",
        "file_read('abc.txt')\n"
      ],
      "execution_count": 10,
      "outputs": [
        {
          "output_type": "stream",
          "text": [
            "Python Exercises\n",
            "Java Exercises\n"
          ],
          "name": "stdout"
        }
      ]
    },
    {
      "cell_type": "code",
      "metadata": {
        "id": "J19-3fGsX4Jh",
        "colab_type": "code",
        "colab": {}
      },
      "source": [
        "ef file_read_from_head(fname, nlines):\n",
        "        from itertools import islice\n",
        "        with open(fname) as f:\n",
        "                for line in islice(f, nlines):\n",
        "                        print(line)\n",
        "file_read_from_head('test.txt',2)"
      ],
      "execution_count": null,
      "outputs": []
    },
    {
      "cell_type": "code",
      "metadata": {
        "id": "t18aWEEKYEkz",
        "colab_type": "code",
        "colab": {
          "base_uri": "https://localhost:8080/",
          "height": 34
        },
        "outputId": "adf411a0-3b6f-4a54-8708-45f0633e7d95"
      },
      "source": [
        "def LastNlines(fname, N): \n",
        "    \n",
        "    with open(fname) as file: \n",
        "           \n",
        "        for line in (file.readlines() [-N:]): \n",
        "            print(line, end ='') \n",
        "  \n",
        "    \n",
        "if __name__ == '__main__': \n",
        "    fname = 'File1.txt'\n",
        "    N = 3\n",
        "    try: \n",
        "        LastNlines(fname, N) \n",
        "    except: \n",
        "        print('File not found')"
      ],
      "execution_count": 13,
      "outputs": [
        {
          "output_type": "stream",
          "text": [
            "File not found\n"
          ],
          "name": "stdout"
        }
      ]
    },
    {
      "cell_type": "code",
      "metadata": {
        "id": "eQ2KGIi0ZE8d",
        "colab_type": "code",
        "colab": {
          "base_uri": "https://localhost:8080/",
          "height": 68
        },
        "outputId": "e2d4293c-ef96-4573-97e7-ae29ec85bc3d"
      },
      "source": [
        "L = [\"Geeks\\n\", \"for\\n\", \"Geeks\\n\"] \n",
        "  \n",
        "file1 = open('myfile.txt', 'w') \n",
        "file1.writelines(L) \n",
        "file1.close() \n",
        "\n",
        "file1 = open('myfile.txt', 'r') \n",
        "Lines = file1.readlines() \n",
        "  \n",
        "count = 0\n",
        "\n",
        "for line in Lines: \n",
        "    print(\"Line{}: {}\".format(count, line.strip())) \n"
      ],
      "execution_count": 17,
      "outputs": [
        {
          "output_type": "stream",
          "text": [
            "Line0: Geeks\n",
            "Line0: for\n",
            "Line0: Geeks\n"
          ],
          "name": "stdout"
        }
      ]
    },
    {
      "cell_type": "code",
      "metadata": {
        "id": "OaxbxzNyZTeF",
        "colab_type": "code",
        "colab": {
          "base_uri": "https://localhost:8080/",
          "height": 68
        },
        "outputId": "34fc822d-2f48-4e91-bc95-fc1286a867e8"
      },
      "source": [
        "L = [\"Geeks\\n\", \"for\\n\", \"Geeks\\n\"] \n",
        "  \n",
        "file1 = open('myfile.txt', 'w') \n",
        "file1.writelines(L) \n",
        "file1.close() \n",
        "\n",
        "file1 = open('myfile.txt', 'r') \n",
        "Lines = file1.readlines() \n",
        "  \n",
        "count =0\n",
        "\n",
        "for line in Lines: \n",
        "    print(\"Line{}: {}\".format(count, line.strip())) \n"
      ],
      "execution_count": 18,
      "outputs": [
        {
          "output_type": "stream",
          "text": [
            "Line0: Geeks\n",
            "Line0: for\n",
            "Line0: Geeks\n"
          ],
          "name": "stdout"
        }
      ]
    },
    {
      "cell_type": "code",
      "metadata": {
        "id": "OGJHvDa1ZwS7",
        "colab_type": "code",
        "colab": {
          "base_uri": "https://localhost:8080/",
          "height": 68
        },
        "outputId": "0ce829cb-1dc0-4444-c687-c290f54e777d"
      },
      "source": [
        "L = [\"Geeks\\n\", \"for\\n\", \"Geeks\\n\"] \n",
        "  \n",
        "file1 = open('myfile.txt', 'w') \n",
        "file1.writelines(L) \n",
        "file1.close() \n",
        "\n",
        "file1 = open('myfile.txt', 'r') \n",
        "Lines = file1.readlines() \n",
        "  \n",
        "count = 0\n",
        "\n",
        "for line in Lines: \n",
        "    print(\"Line{}: {}\".format(count, line.strip()))"
      ],
      "execution_count": 19,
      "outputs": [
        {
          "output_type": "stream",
          "text": [
            "Line0: Geeks\n",
            "Line0: for\n",
            "Line0: Geeks\n"
          ],
          "name": "stdout"
        }
      ]
    },
    {
      "cell_type": "code",
      "metadata": {
        "id": "9rUBzPgnbCoH",
        "colab_type": "code",
        "colab": {}
      },
      "source": [
        "fname = input(\"Enter file name: \")\n",
        "num_lines = 0\n",
        "with open(fname, 'r') as f:\n",
        "    for line in f:\n",
        "        num_lines += 1\n",
        "print(\"Number of lines:\")\n",
        "print(num_lines)\n"
      ],
      "execution_count": null,
      "outputs": []
    },
    {
      "cell_type": "code",
      "metadata": {
        "id": "LhPECb5UbgkT",
        "colab_type": "code",
        "colab": {}
      },
      "source": [
        "import os\n",
        "\n",
        "file_name = abc\n",
        "file_stats = os.stat(file_name)\n",
        "\n",
        "print(file_stats)\n",
        "print(f'File Size in Bytes is {file_stats.st_size}')\n",
        "print(f'File Size in MegaBytes is {file_stats.st_size / (1024 * 1024)}')\n"
      ],
      "execution_count": null,
      "outputs": []
    },
    {
      "cell_type": "code",
      "metadata": {
        "id": "IVBy05d9csNb",
        "colab_type": "code",
        "colab": {}
      },
      "source": [
        "new_file = open(\"copy.txt\", \"w\")\n",
        "with open(\"hello.txt\", \"r\") as f:\n",
        "    new_file.write(f.read())\n",
        "\n",
        "new_file.close()"
      ],
      "execution_count": null,
      "outputs": []
    }
  ]
}